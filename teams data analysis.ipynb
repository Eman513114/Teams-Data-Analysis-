{
 "cells": [
  {
   "cell_type": "code",
   "execution_count": 60,
   "id": "f19ebea1",
   "metadata": {},
   "outputs": [],
   "source": [
    "#import libraries\n",
    "import math\n",
    "import statistics as st\n",
    "import numpy as np\n",
    "import scipy.stats\n",
    "import pandas as pd\n",
    "import numpy as np\n",
    "import csv\n",
    "import seaborn as sns\n",
    "import matplotlib.pyplot as plt\n",
    "%matplotlib inline"
   ]
  },
  {
   "cell_type": "markdown",
   "id": "46fd85a2",
   "metadata": {},
   "source": [
    "### Part one:\n",
    "- Read the data set, clean the data and prepare final dataset to be used for analysis."
   ]
  },
  {
   "cell_type": "code",
   "execution_count": 61,
   "id": "a385c0ed",
   "metadata": {},
   "outputs": [
    {
     "data": {
      "text/html": [
       "<div>\n",
       "<style scoped>\n",
       "    .dataframe tbody tr th:only-of-type {\n",
       "        vertical-align: middle;\n",
       "    }\n",
       "\n",
       "    .dataframe tbody tr th {\n",
       "        vertical-align: top;\n",
       "    }\n",
       "\n",
       "    .dataframe thead th {\n",
       "        text-align: right;\n",
       "    }\n",
       "</style>\n",
       "<table border=\"1\" class=\"dataframe\">\n",
       "  <thead>\n",
       "    <tr style=\"text-align: right;\">\n",
       "      <th></th>\n",
       "      <th>Team</th>\n",
       "      <th>Tournament</th>\n",
       "      <th>Score</th>\n",
       "      <th>PlayedGames</th>\n",
       "      <th>WonGames</th>\n",
       "      <th>DrawnGames</th>\n",
       "      <th>LostGames</th>\n",
       "      <th>BasketScored</th>\n",
       "      <th>BasketGiven</th>\n",
       "      <th>TournamentChampion</th>\n",
       "      <th>Runner-up</th>\n",
       "      <th>TeamLaunch</th>\n",
       "      <th>HighestPositionHeld</th>\n",
       "    </tr>\n",
       "  </thead>\n",
       "  <tbody>\n",
       "    <tr>\n",
       "      <th>0</th>\n",
       "      <td>Team 1</td>\n",
       "      <td>86</td>\n",
       "      <td>4385</td>\n",
       "      <td>2762</td>\n",
       "      <td>1647</td>\n",
       "      <td>552</td>\n",
       "      <td>563</td>\n",
       "      <td>5947</td>\n",
       "      <td>3140</td>\n",
       "      <td>33</td>\n",
       "      <td>23</td>\n",
       "      <td>1929</td>\n",
       "      <td>1</td>\n",
       "    </tr>\n",
       "    <tr>\n",
       "      <th>1</th>\n",
       "      <td>Team 2</td>\n",
       "      <td>86</td>\n",
       "      <td>4262</td>\n",
       "      <td>2762</td>\n",
       "      <td>1581</td>\n",
       "      <td>573</td>\n",
       "      <td>608</td>\n",
       "      <td>5900</td>\n",
       "      <td>3114</td>\n",
       "      <td>25</td>\n",
       "      <td>25</td>\n",
       "      <td>1929</td>\n",
       "      <td>1</td>\n",
       "    </tr>\n",
       "    <tr>\n",
       "      <th>2</th>\n",
       "      <td>Team 3</td>\n",
       "      <td>80</td>\n",
       "      <td>3442</td>\n",
       "      <td>2614</td>\n",
       "      <td>1241</td>\n",
       "      <td>598</td>\n",
       "      <td>775</td>\n",
       "      <td>4534</td>\n",
       "      <td>3309</td>\n",
       "      <td>10</td>\n",
       "      <td>8</td>\n",
       "      <td>1929</td>\n",
       "      <td>1</td>\n",
       "    </tr>\n",
       "    <tr>\n",
       "      <th>3</th>\n",
       "      <td>Team 4</td>\n",
       "      <td>82</td>\n",
       "      <td>3386</td>\n",
       "      <td>2664</td>\n",
       "      <td>1187</td>\n",
       "      <td>616</td>\n",
       "      <td>861</td>\n",
       "      <td>4398</td>\n",
       "      <td>3469</td>\n",
       "      <td>6</td>\n",
       "      <td>6</td>\n",
       "      <td>1931to32</td>\n",
       "      <td>1</td>\n",
       "    </tr>\n",
       "    <tr>\n",
       "      <th>4</th>\n",
       "      <td>Team 5</td>\n",
       "      <td>86</td>\n",
       "      <td>3368</td>\n",
       "      <td>2762</td>\n",
       "      <td>1209</td>\n",
       "      <td>633</td>\n",
       "      <td>920</td>\n",
       "      <td>4631</td>\n",
       "      <td>3700</td>\n",
       "      <td>8</td>\n",
       "      <td>7</td>\n",
       "      <td>1929</td>\n",
       "      <td>1</td>\n",
       "    </tr>\n",
       "  </tbody>\n",
       "</table>\n",
       "</div>"
      ],
      "text/plain": [
       "     Team  Tournament Score PlayedGames WonGames DrawnGames LostGames  \\\n",
       "0  Team 1          86  4385        2762     1647        552       563   \n",
       "1  Team 2          86  4262        2762     1581        573       608   \n",
       "2  Team 3          80  3442        2614     1241        598       775   \n",
       "3  Team 4          82  3386        2664     1187        616       861   \n",
       "4  Team 5          86  3368        2762     1209        633       920   \n",
       "\n",
       "  BasketScored BasketGiven TournamentChampion Runner-up TeamLaunch  \\\n",
       "0         5947        3140                 33        23       1929   \n",
       "1         5900        3114                 25        25       1929   \n",
       "2         4534        3309                 10         8       1929   \n",
       "3         4398        3469                  6         6   1931to32   \n",
       "4         4631        3700                  8         7       1929   \n",
       "\n",
       "   HighestPositionHeld  \n",
       "0                    1  \n",
       "1                    1  \n",
       "2                    1  \n",
       "3                    1  \n",
       "4                    1  "
      ]
     },
     "execution_count": 61,
     "metadata": {},
     "output_type": "execute_result"
    }
   ],
   "source": [
    "#getting the data\n",
    "df=pd.read_csv(\"DS - Part2 - Basketball.csv\")\n",
    "df.head()"
   ]
  },
  {
   "cell_type": "markdown",
   "id": "5f819361",
   "metadata": {},
   "source": [
    "##### checking the data and make descriptive statistics."
   ]
  },
  {
   "cell_type": "code",
   "execution_count": 62,
   "id": "a70e27d3",
   "metadata": {},
   "outputs": [
    {
     "data": {
      "text/plain": [
       "(61, 13)"
      ]
     },
     "execution_count": 62,
     "metadata": {},
     "output_type": "execute_result"
    }
   ],
   "source": [
    "df.shape"
   ]
  },
  {
   "cell_type": "code",
   "execution_count": 63,
   "id": "8d1b41f7",
   "metadata": {},
   "outputs": [
    {
     "data": {
      "text/html": [
       "<div>\n",
       "<style scoped>\n",
       "    .dataframe tbody tr th:only-of-type {\n",
       "        vertical-align: middle;\n",
       "    }\n",
       "\n",
       "    .dataframe tbody tr th {\n",
       "        vertical-align: top;\n",
       "    }\n",
       "\n",
       "    .dataframe thead th {\n",
       "        text-align: right;\n",
       "    }\n",
       "</style>\n",
       "<table border=\"1\" class=\"dataframe\">\n",
       "  <thead>\n",
       "    <tr style=\"text-align: right;\">\n",
       "      <th></th>\n",
       "      <th>Tournament</th>\n",
       "      <th>HighestPositionHeld</th>\n",
       "    </tr>\n",
       "  </thead>\n",
       "  <tbody>\n",
       "    <tr>\n",
       "      <th>count</th>\n",
       "      <td>61.000000</td>\n",
       "      <td>61.000000</td>\n",
       "    </tr>\n",
       "    <tr>\n",
       "      <th>mean</th>\n",
       "      <td>24.000000</td>\n",
       "      <td>7.081967</td>\n",
       "    </tr>\n",
       "    <tr>\n",
       "      <th>std</th>\n",
       "      <td>26.827225</td>\n",
       "      <td>5.276663</td>\n",
       "    </tr>\n",
       "    <tr>\n",
       "      <th>min</th>\n",
       "      <td>1.000000</td>\n",
       "      <td>1.000000</td>\n",
       "    </tr>\n",
       "    <tr>\n",
       "      <th>25%</th>\n",
       "      <td>4.000000</td>\n",
       "      <td>3.000000</td>\n",
       "    </tr>\n",
       "    <tr>\n",
       "      <th>50%</th>\n",
       "      <td>12.000000</td>\n",
       "      <td>6.000000</td>\n",
       "    </tr>\n",
       "    <tr>\n",
       "      <th>75%</th>\n",
       "      <td>38.000000</td>\n",
       "      <td>10.000000</td>\n",
       "    </tr>\n",
       "    <tr>\n",
       "      <th>max</th>\n",
       "      <td>86.000000</td>\n",
       "      <td>20.000000</td>\n",
       "    </tr>\n",
       "  </tbody>\n",
       "</table>\n",
       "</div>"
      ],
      "text/plain": [
       "       Tournament  HighestPositionHeld\n",
       "count   61.000000            61.000000\n",
       "mean    24.000000             7.081967\n",
       "std     26.827225             5.276663\n",
       "min      1.000000             1.000000\n",
       "25%      4.000000             3.000000\n",
       "50%     12.000000             6.000000\n",
       "75%     38.000000            10.000000\n",
       "max     86.000000            20.000000"
      ]
     },
     "execution_count": 63,
     "metadata": {},
     "output_type": "execute_result"
    }
   ],
   "source": [
    "df.describe()\n",
    "#here there are a lot of other columns should be numeric data type."
   ]
  },
  {
   "cell_type": "code",
   "execution_count": 64,
   "id": "16cfc773",
   "metadata": {},
   "outputs": [
    {
     "data": {
      "text/plain": [
       "Team                   object\n",
       "Tournament              int64\n",
       "Score                  object\n",
       "PlayedGames            object\n",
       "WonGames               object\n",
       "DrawnGames             object\n",
       "LostGames              object\n",
       "BasketScored           object\n",
       "BasketGiven            object\n",
       "TournamentChampion     object\n",
       "Runner-up              object\n",
       "TeamLaunch             object\n",
       "HighestPositionHeld     int64\n",
       "dtype: object"
      ]
     },
     "execution_count": 64,
     "metadata": {},
     "output_type": "execute_result"
    }
   ],
   "source": [
    "df.dtypes\n",
    "# only [team - tournament - highestpositionheid] are have right datatype."
   ]
  },
  {
   "cell_type": "code",
   "execution_count": 65,
   "id": "86447323",
   "metadata": {},
   "outputs": [
    {
     "data": {
      "text/html": [
       "<div>\n",
       "<style scoped>\n",
       "    .dataframe tbody tr th:only-of-type {\n",
       "        vertical-align: middle;\n",
       "    }\n",
       "\n",
       "    .dataframe tbody tr th {\n",
       "        vertical-align: top;\n",
       "    }\n",
       "\n",
       "    .dataframe thead th {\n",
       "        text-align: right;\n",
       "    }\n",
       "</style>\n",
       "<table border=\"1\" class=\"dataframe\">\n",
       "  <thead>\n",
       "    <tr style=\"text-align: right;\">\n",
       "      <th></th>\n",
       "      <th>Team</th>\n",
       "      <th>Tournament</th>\n",
       "      <th>Score</th>\n",
       "      <th>PlayedGames</th>\n",
       "      <th>WonGames</th>\n",
       "      <th>DrawnGames</th>\n",
       "      <th>LostGames</th>\n",
       "      <th>BasketScored</th>\n",
       "      <th>BasketGiven</th>\n",
       "      <th>TournamentChampion</th>\n",
       "      <th>Runner-up</th>\n",
       "      <th>TeamLaunch</th>\n",
       "      <th>HighestPositionHeld</th>\n",
       "    </tr>\n",
       "  </thead>\n",
       "  <tbody>\n",
       "    <tr>\n",
       "      <th>0</th>\n",
       "      <td>Team 1</td>\n",
       "      <td>86</td>\n",
       "      <td>4385</td>\n",
       "      <td>2762</td>\n",
       "      <td>1647</td>\n",
       "      <td>552</td>\n",
       "      <td>563</td>\n",
       "      <td>5947</td>\n",
       "      <td>3140</td>\n",
       "      <td>33</td>\n",
       "      <td>23</td>\n",
       "      <td>1929</td>\n",
       "      <td>1</td>\n",
       "    </tr>\n",
       "    <tr>\n",
       "      <th>1</th>\n",
       "      <td>Team 2</td>\n",
       "      <td>86</td>\n",
       "      <td>4262</td>\n",
       "      <td>2762</td>\n",
       "      <td>1581</td>\n",
       "      <td>573</td>\n",
       "      <td>608</td>\n",
       "      <td>5900</td>\n",
       "      <td>3114</td>\n",
       "      <td>25</td>\n",
       "      <td>25</td>\n",
       "      <td>1929</td>\n",
       "      <td>1</td>\n",
       "    </tr>\n",
       "    <tr>\n",
       "      <th>2</th>\n",
       "      <td>Team 3</td>\n",
       "      <td>80</td>\n",
       "      <td>3442</td>\n",
       "      <td>2614</td>\n",
       "      <td>1241</td>\n",
       "      <td>598</td>\n",
       "      <td>775</td>\n",
       "      <td>4534</td>\n",
       "      <td>3309</td>\n",
       "      <td>10</td>\n",
       "      <td>8</td>\n",
       "      <td>1929</td>\n",
       "      <td>1</td>\n",
       "    </tr>\n",
       "    <tr>\n",
       "      <th>3</th>\n",
       "      <td>Team 4</td>\n",
       "      <td>82</td>\n",
       "      <td>3386</td>\n",
       "      <td>2664</td>\n",
       "      <td>1187</td>\n",
       "      <td>616</td>\n",
       "      <td>861</td>\n",
       "      <td>4398</td>\n",
       "      <td>3469</td>\n",
       "      <td>6</td>\n",
       "      <td>6</td>\n",
       "      <td>1931to32</td>\n",
       "      <td>1</td>\n",
       "    </tr>\n",
       "    <tr>\n",
       "      <th>4</th>\n",
       "      <td>Team 5</td>\n",
       "      <td>86</td>\n",
       "      <td>3368</td>\n",
       "      <td>2762</td>\n",
       "      <td>1209</td>\n",
       "      <td>633</td>\n",
       "      <td>920</td>\n",
       "      <td>4631</td>\n",
       "      <td>3700</td>\n",
       "      <td>8</td>\n",
       "      <td>7</td>\n",
       "      <td>1929</td>\n",
       "      <td>1</td>\n",
       "    </tr>\n",
       "    <tr>\n",
       "      <th>5</th>\n",
       "      <td>Team 6</td>\n",
       "      <td>73</td>\n",
       "      <td>2819</td>\n",
       "      <td>2408</td>\n",
       "      <td>990</td>\n",
       "      <td>531</td>\n",
       "      <td>887</td>\n",
       "      <td>3680</td>\n",
       "      <td>3373</td>\n",
       "      <td>1</td>\n",
       "      <td>4</td>\n",
       "      <td>1934-35</td>\n",
       "      <td>1</td>\n",
       "    </tr>\n",
       "    <tr>\n",
       "      <th>6</th>\n",
       "      <td>Team 7</td>\n",
       "      <td>82</td>\n",
       "      <td>2792</td>\n",
       "      <td>2626</td>\n",
       "      <td>948</td>\n",
       "      <td>608</td>\n",
       "      <td>1070</td>\n",
       "      <td>3609</td>\n",
       "      <td>3889</td>\n",
       "      <td>-</td>\n",
       "      <td>-</td>\n",
       "      <td>1929</td>\n",
       "      <td>3</td>\n",
       "    </tr>\n",
       "    <tr>\n",
       "      <th>7</th>\n",
       "      <td>Team 8</td>\n",
       "      <td>70</td>\n",
       "      <td>2573</td>\n",
       "      <td>2302</td>\n",
       "      <td>864</td>\n",
       "      <td>577</td>\n",
       "      <td>861</td>\n",
       "      <td>3228</td>\n",
       "      <td>3230</td>\n",
       "      <td>2</td>\n",
       "      <td>3</td>\n",
       "      <td>1929</td>\n",
       "      <td>1</td>\n",
       "    </tr>\n",
       "    <tr>\n",
       "      <th>8</th>\n",
       "      <td>Team 9</td>\n",
       "      <td>58</td>\n",
       "      <td>2109</td>\n",
       "      <td>1986</td>\n",
       "      <td>698</td>\n",
       "      <td>522</td>\n",
       "      <td>766</td>\n",
       "      <td>2683</td>\n",
       "      <td>2847</td>\n",
       "      <td>-</td>\n",
       "      <td>1</td>\n",
       "      <td>1939-40</td>\n",
       "      <td>2</td>\n",
       "    </tr>\n",
       "    <tr>\n",
       "      <th>9</th>\n",
       "      <td>Team 10</td>\n",
       "      <td>51</td>\n",
       "      <td>1884</td>\n",
       "      <td>1728</td>\n",
       "      <td>606</td>\n",
       "      <td>440</td>\n",
       "      <td>682</td>\n",
       "      <td>2159</td>\n",
       "      <td>2492</td>\n",
       "      <td>1</td>\n",
       "      <td>-</td>\n",
       "      <td>1932-33</td>\n",
       "      <td>1</td>\n",
       "    </tr>\n",
       "  </tbody>\n",
       "</table>\n",
       "</div>"
      ],
      "text/plain": [
       "      Team  Tournament Score PlayedGames WonGames DrawnGames LostGames  \\\n",
       "0   Team 1          86  4385        2762     1647        552       563   \n",
       "1   Team 2          86  4262        2762     1581        573       608   \n",
       "2   Team 3          80  3442        2614     1241        598       775   \n",
       "3   Team 4          82  3386        2664     1187        616       861   \n",
       "4   Team 5          86  3368        2762     1209        633       920   \n",
       "5   Team 6          73  2819        2408      990        531       887   \n",
       "6   Team 7          82  2792        2626      948        608      1070   \n",
       "7   Team 8          70  2573        2302      864        577       861   \n",
       "8   Team 9          58  2109        1986      698        522       766   \n",
       "9  Team 10          51  1884        1728      606        440       682   \n",
       "\n",
       "  BasketScored BasketGiven TournamentChampion Runner-up TeamLaunch  \\\n",
       "0         5947        3140                 33        23       1929   \n",
       "1         5900        3114                 25        25       1929   \n",
       "2         4534        3309                 10         8       1929   \n",
       "3         4398        3469                  6         6   1931to32   \n",
       "4         4631        3700                  8         7       1929   \n",
       "5         3680        3373                  1         4    1934-35   \n",
       "6         3609        3889                  -         -       1929   \n",
       "7         3228        3230                  2         3       1929   \n",
       "8         2683        2847                  -         1    1939-40   \n",
       "9         2159        2492                  1         -    1932-33   \n",
       "\n",
       "   HighestPositionHeld  \n",
       "0                    1  \n",
       "1                    1  \n",
       "2                    1  \n",
       "3                    1  \n",
       "4                    1  \n",
       "5                    1  \n",
       "6                    3  \n",
       "7                    1  \n",
       "8                    2  \n",
       "9                    1  "
      ]
     },
     "execution_count": 65,
     "metadata": {},
     "output_type": "execute_result"
    }
   ],
   "source": [
    "df.head(10)"
   ]
  },
  {
   "cell_type": "markdown",
   "id": "ece28bfa",
   "metadata": {},
   "source": [
    "### cleaning :\n",
    "- change columns'types to int \n",
    "- replace TournamentChampion: from - to 0, and runner-up columns\n",
    "- TeamLaunch column remove from - and rely on the first part as it is the start year "
   ]
  },
  {
   "cell_type": "code",
   "execution_count": 66,
   "id": "a3963ec2",
   "metadata": {},
   "outputs": [],
   "source": [
    "#replacing (-) to (0) in TournamentChampion and runner-up columns.\n",
    "df[\"TournamentChampion\"]=df[\"TournamentChampion\"].replace(\"-\",\"0\")"
   ]
  },
  {
   "cell_type": "code",
   "execution_count": 67,
   "id": "1129246d",
   "metadata": {},
   "outputs": [
    {
     "data": {
      "text/plain": [
       "array(['23', '25', '8', '6', '7', '4', '-', '3', '1', '5'], dtype=object)"
      ]
     },
     "execution_count": 67,
     "metadata": {},
     "output_type": "execute_result"
    }
   ],
   "source": [
    "df[\"Runner-up\"].unique()"
   ]
  },
  {
   "cell_type": "code",
   "execution_count": 68,
   "id": "8b45dd7a",
   "metadata": {},
   "outputs": [],
   "source": [
    "df[\"Runner-up\"]=df[\"Runner-up\"].replace(\"-\",\"0\")"
   ]
  },
  {
   "cell_type": "code",
   "execution_count": 69,
   "id": "961e7747",
   "metadata": {},
   "outputs": [
    {
     "data": {
      "text/plain": [
       "Index(['Team', 'Tournament', 'Score', 'PlayedGames', 'WonGames', 'DrawnGames',\n",
       "       'LostGames', 'BasketScored', 'BasketGiven', 'TournamentChampion',\n",
       "       'Runner-up', 'TeamLaunch', 'HighestPositionHeld'],\n",
       "      dtype='object')"
      ]
     },
     "execution_count": 69,
     "metadata": {},
     "output_type": "execute_result"
    }
   ],
   "source": [
    "df.columns"
   ]
  },
  {
   "cell_type": "code",
   "execution_count": 70,
   "id": "19ff73e2",
   "metadata": {},
   "outputs": [
    {
     "name": "stdout",
     "output_type": "stream",
     "text": [
      "Score:True\n",
      "PlayedGames:True\n",
      "WonGames:True\n",
      "DrawnGames:True\n",
      "LostGames:True\n",
      "BasketScored:True\n",
      "BasketGiven:True\n",
      "TournamentChampion:False\n",
      "Runner-up:False\n"
     ]
    }
   ],
   "source": [
    "change_list=['Score', 'PlayedGames', 'WonGames', 'DrawnGames','LostGames', 'BasketScored', 'BasketGiven', 'TournamentChampion',\n",
    "       'Runner-up']\n",
    "for i in change_list:\n",
    "    print(i+\":\"+str(df[i].str.contains(\"-\").any()))"
   ]
  },
  {
   "cell_type": "code",
   "execution_count": 71,
   "id": "7c5192a6",
   "metadata": {},
   "outputs": [
    {
     "name": "stdout",
     "output_type": "stream",
     "text": [
      "['4385' '4262' '3442' '3386' '3368' '2819' '2792' '2573' '2109' '1884'\n",
      " '1814' '1789' '1471' '1416' '1389' '1351' '1314' '1174' '1148' '1020'\n",
      " '970' '667' '662' '606' '553' '538' '510' '445' '421' '416' '375' '353'\n",
      " '343' '293' '285' '277' '242' '230' '190' '188' '168' '150' '148' '132'\n",
      " '107' '96' '91' '83' '81' '76' '71' '56' '52' '42' '40' '35' '34' '22'\n",
      " '19' '14' '-']\n",
      "['2762' '2614' '2664' '2408' '2626' '2302' '1986' '1728' '1530' '1698'\n",
      " '1466' '1428' '1458' '1318' '1255' '1192' '988' '1096' '646' '742' '652'\n",
      " '678' '456' '628' '494' '586' '380' '402' '423' '426' '448' '346' '334'\n",
      " '270' '228' '282' '160' '186' '204' '180' '152' '114' '130' '116' '80'\n",
      " '108' '90' '72' '68' '54' '38' '30' '-']\n",
      "['1647' '1581' '1241' '1187' '1209' '990' '948' '864' '698' '606' '563'\n",
      " '586' '463' '453' '471' '426' '390' '408' '333' '367' '266' '218' '189'\n",
      " '203' '147' '184' '155' '145' '125' '113' '123' '129' '104' '96' '103'\n",
      " '76' '62' '82' '52' '50' '59' '53' '37' '35' '43' '26' '34' '20' '19'\n",
      " '30' '29' '21' '17' '18' '13' '8' '7' '5' '-']\n",
      "['552' '573' '598' '616' '633' '531' '608' '577' '522' '440' '392' '389'\n",
      " '384' '336' '358' '327' '330' '292' '256' '242' '172' '175' '148' '180'\n",
      " '112' '149' '128' '143' '81' '95' '102' '127' '92' '79' '76' '56' '63'\n",
      " '45' '46' '50' '44' '37' '27' '21' '16' '23' '24' '13' '14' '18' '6' '11'\n",
      " '10' '8' '5' '4' '-']\n",
      "['563' '608' '775' '861' '920' '887' '1070' '766' '682' '575' '723' '619'\n",
      " '639' '629' '565' '535' '492' '399' '487' '208' '349' '305' '295' '197'\n",
      " '211' '298' '174' '194' '198' '202' '217' '158' '152' '118' '110' '137'\n",
      " '63' '90' '95' '83' '78' '52' '66' '44' '37' '62' '48' '33' '30' '41'\n",
      " '19' '20' '15' '18' '21' '-']\n",
      "['5947' '5900' '4534' '4398' '4631' '3680' '3609' '3228' '2683' '2159'\n",
      " '2052' '2278' '1767' '1843' '1753' '1500' '1421' '1642' '1182' '1347'\n",
      " '892' '819' '760' '750' '520' '716' '619' '607' '458' '430' '422' '492'\n",
      " '393' '291' '419' '320' '244' '285' '199' '202' '216' '165' '155' '139'\n",
      " '227' '101' '181' '62' '70' '145' '121' '153' '71' '97' '36' '38' '37'\n",
      " '51' '34' '-']\n",
      "['3140' '3114' '3309' '3469' '3700' '3373' '3889' '3230' '2847' '2492'\n",
      " '2188' '2624' '2180' '2368' '2152' '1834' '1763' '1951' '1371' '1746'\n",
      " '789' '1157' '1088' '1022' '633' '1050' '744' '992' '623' '632' '581'\n",
      " '720' '662' '489' '588' '410' '366' '430' '241' '296' '310' '221' '253'\n",
      " '167' '308' '139' '295' '117' '115' '252' '183' '184' '116' '131' '182'\n",
      " '55' '66' '57' '85' '65' '-']\n",
      "['33' '25' '10' '6' '8' '1' '0' '2']\n",
      "['23' '25' '8' '6' '7' '4' '0' '3' '1' '5']\n"
     ]
    }
   ],
   "source": [
    "change_list=['Score', 'PlayedGames', 'WonGames', 'DrawnGames','LostGames', 'BasketScored', 'BasketGiven', 'TournamentChampion',\n",
    "       'Runner-up']\n",
    "for i in change_list:\n",
    "    print(df[i].unique())"
   ]
  },
  {
   "cell_type": "code",
   "execution_count": 72,
   "id": "225dffeb",
   "metadata": {},
   "outputs": [],
   "source": [
    "change_list=['Score', 'PlayedGames', 'WonGames', 'DrawnGames','LostGames', 'BasketScored', 'BasketGiven']\n",
    "for i in change_list:\n",
    "    df[i]=df[i][:-1]"
   ]
  },
  {
   "cell_type": "code",
   "execution_count": 73,
   "id": "226ad1d7",
   "metadata": {},
   "outputs": [
    {
     "name": "stdout",
     "output_type": "stream",
     "text": [
      "['4385' '4262' '3442' '3386' '3368' '2819' '2792' '2573' '2109' '1884'\n",
      " '1814' '1789' '1471' '1416' '1389' '1351' '1314' '1174' '1148' '1020'\n",
      " '970' '667' '662' '606' '553' '538' '510' '445' '421' '416' '375' '353'\n",
      " '343' '293' '285' '277' '242' '230' '190' '188' '168' '150' '148' '132'\n",
      " '107' '96' '91' '83' '81' '76' '71' '56' '52' '42' '40' '35' '34' '22'\n",
      " '19' '14' nan]\n",
      "['2762' '2614' '2664' '2408' '2626' '2302' '1986' '1728' '1530' '1698'\n",
      " '1466' '1428' '1458' '1318' '1255' '1192' '988' '1096' '646' '742' '652'\n",
      " '678' '456' '628' '494' '586' '380' '402' '423' '426' '448' '346' '334'\n",
      " '270' '228' '282' '160' '186' '204' '180' '152' '114' '130' '116' '80'\n",
      " '108' '90' '72' '68' '54' '38' '30' nan]\n",
      "['1647' '1581' '1241' '1187' '1209' '990' '948' '864' '698' '606' '563'\n",
      " '586' '463' '453' '471' '426' '390' '408' '333' '367' '266' '218' '189'\n",
      " '203' '147' '184' '155' '145' '125' '113' '123' '129' '104' '96' '103'\n",
      " '76' '62' '82' '52' '50' '59' '53' '37' '35' '43' '26' '34' '20' '19'\n",
      " '30' '29' '21' '17' '18' '13' '8' '7' '5' nan]\n",
      "['552' '573' '598' '616' '633' '531' '608' '577' '522' '440' '392' '389'\n",
      " '384' '336' '358' '327' '330' '292' '256' '242' '172' '175' '148' '180'\n",
      " '112' '149' '128' '143' '81' '95' '102' '127' '92' '79' '76' '56' '63'\n",
      " '45' '46' '50' '44' '37' '27' '21' '16' '23' '24' '13' '14' '18' '6' '11'\n",
      " '10' '8' '5' '4' nan]\n",
      "['563' '608' '775' '861' '920' '887' '1070' '766' '682' '575' '723' '619'\n",
      " '639' '629' '565' '535' '492' '399' '487' '208' '349' '305' '295' '197'\n",
      " '211' '298' '174' '194' '198' '202' '217' '158' '152' '118' '110' '137'\n",
      " '63' '90' '95' '83' '78' '52' '66' '44' '37' '62' '48' '33' '30' '41'\n",
      " '19' '20' '15' '18' '21' nan]\n",
      "['5947' '5900' '4534' '4398' '4631' '3680' '3609' '3228' '2683' '2159'\n",
      " '2052' '2278' '1767' '1843' '1753' '1500' '1421' '1642' '1182' '1347'\n",
      " '892' '819' '760' '750' '520' '716' '619' '607' '458' '430' '422' '492'\n",
      " '393' '291' '419' '320' '244' '285' '199' '202' '216' '165' '155' '139'\n",
      " '227' '101' '181' '62' '70' '145' '121' '153' '71' '97' '36' '38' '37'\n",
      " '51' '34' nan]\n",
      "['3140' '3114' '3309' '3469' '3700' '3373' '3889' '3230' '2847' '2492'\n",
      " '2188' '2624' '2180' '2368' '2152' '1834' '1763' '1951' '1371' '1746'\n",
      " '789' '1157' '1088' '1022' '633' '1050' '744' '992' '623' '632' '581'\n",
      " '720' '662' '489' '588' '410' '366' '430' '241' '296' '310' '221' '253'\n",
      " '167' '308' '139' '295' '117' '115' '252' '183' '184' '116' '131' '182'\n",
      " '55' '66' '57' '85' '65' nan]\n",
      "['33' '25' '10' '6' '8' '1' '0' '2']\n",
      "['23' '25' '8' '6' '7' '4' '0' '3' '1' '5']\n"
     ]
    }
   ],
   "source": [
    "change_list=['Score', 'PlayedGames', 'WonGames', 'DrawnGames','LostGames', 'BasketScored', 'BasketGiven', 'TournamentChampion',\n",
    "       'Runner-up']\n",
    "for i in change_list:\n",
    "    print(df[i].unique())"
   ]
  },
  {
   "cell_type": "code",
   "execution_count": 74,
   "id": "28c2cd92",
   "metadata": {},
   "outputs": [],
   "source": [
    "# change columns type to int\n",
    "change_list=['Score', 'PlayedGames', 'WonGames', 'DrawnGames','LostGames', 'BasketScored', 'BasketGiven', 'TournamentChampion',\n",
    "       'Runner-up']\n",
    "for i in change_list:\n",
    "    df[i]=df[i].fillna(0).astype(int)\n",
    "    \n"
   ]
  },
  {
   "cell_type": "code",
   "execution_count": 75,
   "id": "0dd91452",
   "metadata": {},
   "outputs": [
    {
     "data": {
      "text/plain": [
       "Team                   object\n",
       "Tournament              int64\n",
       "Score                   int32\n",
       "PlayedGames             int32\n",
       "WonGames                int32\n",
       "DrawnGames              int32\n",
       "LostGames               int32\n",
       "BasketScored            int32\n",
       "BasketGiven             int32\n",
       "TournamentChampion      int32\n",
       "Runner-up               int32\n",
       "TeamLaunch             object\n",
       "HighestPositionHeld     int64\n",
       "dtype: object"
      ]
     },
     "execution_count": 75,
     "metadata": {},
     "output_type": "execute_result"
    }
   ],
   "source": [
    "df.dtypes"
   ]
  },
  {
   "cell_type": "code",
   "execution_count": 76,
   "id": "3482486f",
   "metadata": {},
   "outputs": [
    {
     "data": {
      "text/plain": [
       "array(['1929', '1931to32', '1934-35', '1939-40', '1932-33', '1941to42',\n",
       "       '1948-49', '1944_45', '1935-36', '1949_50', '1933to34', '1960-61',\n",
       "       '1951-52', '1998-99', '1941-42', '1977-78', '1959-60', '2004to05',\n",
       "       '1961-62', '1940-41', '1930-31', '1963-64', '1974-75', '1943-44',\n",
       "       '1987-88', '1991_92', '2007-08', '1962-63', '1994-95', '1978-79',\n",
       "       '1971-72', '1999to00', '2014-15', '1990-91', '1947-48', '1996-97',\n",
       "       '1995-96', '1945-46', '1953-54', '1979-80', '1950-51', '2016_17',\n",
       "       '2009-10', '1956-57', '1951~52', '1955-56', '2017~18'],\n",
       "      dtype=object)"
      ]
     },
     "execution_count": 76,
     "metadata": {},
     "output_type": "execute_result"
    }
   ],
   "source": [
    "df[\"TeamLaunch\"].unique()"
   ]
  },
  {
   "cell_type": "code",
   "execution_count": 77,
   "id": "cc4aa331",
   "metadata": {},
   "outputs": [
    {
     "data": {
      "text/plain": [
       "0         1929\n",
       "1         1929\n",
       "2         1929\n",
       "3     1931to32\n",
       "4         1929\n",
       "        ...   \n",
       "56     2009-10\n",
       "57     1956-57\n",
       "58     1951~52\n",
       "59     1955-56\n",
       "60     2017~18\n",
       "Name: TeamLaunch, Length: 61, dtype: object"
      ]
     },
     "execution_count": 77,
     "metadata": {},
     "output_type": "execute_result"
    }
   ],
   "source": [
    "df[\"TeamLaunch\"].replace(\"t\",\"-\")"
   ]
  },
  {
   "cell_type": "code",
   "execution_count": 78,
   "id": "bab3decb",
   "metadata": {},
   "outputs": [],
   "source": [
    "df[\"TeamLaunch\"]=df[\"TeamLaunch\"].str[:4]"
   ]
  },
  {
   "cell_type": "code",
   "execution_count": 79,
   "id": "268c09af",
   "metadata": {},
   "outputs": [
    {
     "data": {
      "text/plain": [
       "array(['1929', '1931', '1934', '1939', '1932', '1941', '1948', '1944',\n",
       "       '1935', '1949', '1933', '1960', '1951', '1998', '1977', '1959',\n",
       "       '2004', '1961', '1940', '1930', '1963', '1974', '1943', '1987',\n",
       "       '1991', '2007', '1962', '1994', '1978', '1971', '1999', '2014',\n",
       "       '1990', '1947', '1996', '1995', '1945', '1953', '1979', '1950',\n",
       "       '2016', '2009', '1956', '1955', '2017'], dtype=object)"
      ]
     },
     "execution_count": 79,
     "metadata": {},
     "output_type": "execute_result"
    }
   ],
   "source": [
    "df[\"TeamLaunch\"].unique()"
   ]
  },
  {
   "cell_type": "markdown",
   "id": "11e6173e",
   "metadata": {},
   "source": [
    "#### Save cleaned data to other csv file then use it in analysis"
   ]
  },
  {
   "cell_type": "code",
   "execution_count": 80,
   "id": "fcaf015c",
   "metadata": {},
   "outputs": [],
   "source": [
    "df.to_csv(\"file_after_cleaning.csv\",index=False)"
   ]
  },
  {
   "cell_type": "markdown",
   "id": "fb8b8ab3",
   "metadata": {},
   "source": [
    "##### ------------------------------------------------------------------------------------------------------------------------------------------------------------------------------------------------"
   ]
  },
  {
   "cell_type": "markdown",
   "id": "36692624",
   "metadata": {},
   "source": [
    "### Part two:\n"
   ]
  },
  {
   "cell_type": "code",
   "execution_count": 81,
   "id": "9f19a2e4",
   "metadata": {},
   "outputs": [
    {
     "data": {
      "text/html": [
       "<div>\n",
       "<style scoped>\n",
       "    .dataframe tbody tr th:only-of-type {\n",
       "        vertical-align: middle;\n",
       "    }\n",
       "\n",
       "    .dataframe tbody tr th {\n",
       "        vertical-align: top;\n",
       "    }\n",
       "\n",
       "    .dataframe thead th {\n",
       "        text-align: right;\n",
       "    }\n",
       "</style>\n",
       "<table border=\"1\" class=\"dataframe\">\n",
       "  <thead>\n",
       "    <tr style=\"text-align: right;\">\n",
       "      <th></th>\n",
       "      <th>Team</th>\n",
       "      <th>Tournament</th>\n",
       "      <th>Score</th>\n",
       "      <th>PlayedGames</th>\n",
       "      <th>WonGames</th>\n",
       "      <th>DrawnGames</th>\n",
       "      <th>LostGames</th>\n",
       "      <th>BasketScored</th>\n",
       "      <th>BasketGiven</th>\n",
       "      <th>TournamentChampion</th>\n",
       "      <th>Runner-up</th>\n",
       "      <th>TeamLaunch</th>\n",
       "      <th>HighestPositionHeld</th>\n",
       "    </tr>\n",
       "  </thead>\n",
       "  <tbody>\n",
       "    <tr>\n",
       "      <th>0</th>\n",
       "      <td>Team 1</td>\n",
       "      <td>86</td>\n",
       "      <td>4385</td>\n",
       "      <td>2762</td>\n",
       "      <td>1647</td>\n",
       "      <td>552</td>\n",
       "      <td>563</td>\n",
       "      <td>5947</td>\n",
       "      <td>3140</td>\n",
       "      <td>33</td>\n",
       "      <td>23</td>\n",
       "      <td>1929</td>\n",
       "      <td>1</td>\n",
       "    </tr>\n",
       "    <tr>\n",
       "      <th>1</th>\n",
       "      <td>Team 2</td>\n",
       "      <td>86</td>\n",
       "      <td>4262</td>\n",
       "      <td>2762</td>\n",
       "      <td>1581</td>\n",
       "      <td>573</td>\n",
       "      <td>608</td>\n",
       "      <td>5900</td>\n",
       "      <td>3114</td>\n",
       "      <td>25</td>\n",
       "      <td>25</td>\n",
       "      <td>1929</td>\n",
       "      <td>1</td>\n",
       "    </tr>\n",
       "  </tbody>\n",
       "</table>\n",
       "</div>"
      ],
      "text/plain": [
       "     Team  Tournament  Score  PlayedGames  WonGames  DrawnGames  LostGames  \\\n",
       "0  Team 1          86   4385         2762      1647         552        563   \n",
       "1  Team 2          86   4262         2762      1581         573        608   \n",
       "\n",
       "   BasketScored  BasketGiven  TournamentChampion  Runner-up  TeamLaunch  \\\n",
       "0          5947         3140                  33         23        1929   \n",
       "1          5900         3114                  25         25        1929   \n",
       "\n",
       "   HighestPositionHeld  \n",
       "0                    1  \n",
       "1                    1  "
      ]
     },
     "execution_count": 81,
     "metadata": {},
     "output_type": "execute_result"
    }
   ],
   "source": [
    "#importing the final cleaned data\n",
    "df_cl=pd.read_csv(\"file_after_cleaning.csv\")\n",
    "df_cl.head(2)"
   ]
  },
  {
   "cell_type": "code",
   "execution_count": 82,
   "id": "baa58680",
   "metadata": {},
   "outputs": [
    {
     "data": {
      "text/html": [
       "<div>\n",
       "<style scoped>\n",
       "    .dataframe tbody tr th:only-of-type {\n",
       "        vertical-align: middle;\n",
       "    }\n",
       "\n",
       "    .dataframe tbody tr th {\n",
       "        vertical-align: top;\n",
       "    }\n",
       "\n",
       "    .dataframe thead th {\n",
       "        text-align: right;\n",
       "    }\n",
       "</style>\n",
       "<table border=\"1\" class=\"dataframe\">\n",
       "  <thead>\n",
       "    <tr style=\"text-align: right;\">\n",
       "      <th></th>\n",
       "      <th>Tournament</th>\n",
       "      <th>Score</th>\n",
       "      <th>PlayedGames</th>\n",
       "      <th>WonGames</th>\n",
       "      <th>DrawnGames</th>\n",
       "      <th>LostGames</th>\n",
       "      <th>BasketScored</th>\n",
       "      <th>BasketGiven</th>\n",
       "      <th>TournamentChampion</th>\n",
       "      <th>Runner-up</th>\n",
       "      <th>TeamLaunch</th>\n",
       "      <th>HighestPositionHeld</th>\n",
       "    </tr>\n",
       "  </thead>\n",
       "  <tbody>\n",
       "    <tr>\n",
       "      <th>count</th>\n",
       "      <td>61.000000</td>\n",
       "      <td>61.000000</td>\n",
       "      <td>61.000000</td>\n",
       "      <td>61.000000</td>\n",
       "      <td>61.000000</td>\n",
       "      <td>61.000000</td>\n",
       "      <td>61.000000</td>\n",
       "      <td>61.000000</td>\n",
       "      <td>61.000000</td>\n",
       "      <td>61.000000</td>\n",
       "      <td>61.000000</td>\n",
       "      <td>61.000000</td>\n",
       "    </tr>\n",
       "    <tr>\n",
       "      <th>mean</th>\n",
       "      <td>24.000000</td>\n",
       "      <td>901.426230</td>\n",
       "      <td>796.819672</td>\n",
       "      <td>303.967213</td>\n",
       "      <td>188.934426</td>\n",
       "      <td>303.754098</td>\n",
       "      <td>1140.344262</td>\n",
       "      <td>1140.229508</td>\n",
       "      <td>1.426230</td>\n",
       "      <td>1.409836</td>\n",
       "      <td>1958.918033</td>\n",
       "      <td>7.081967</td>\n",
       "    </tr>\n",
       "    <tr>\n",
       "      <th>std</th>\n",
       "      <td>26.827225</td>\n",
       "      <td>1134.899121</td>\n",
       "      <td>876.282765</td>\n",
       "      <td>406.991030</td>\n",
       "      <td>201.799477</td>\n",
       "      <td>294.708594</td>\n",
       "      <td>1506.740211</td>\n",
       "      <td>1163.710766</td>\n",
       "      <td>5.472535</td>\n",
       "      <td>4.540107</td>\n",
       "      <td>27.484114</td>\n",
       "      <td>5.276663</td>\n",
       "    </tr>\n",
       "    <tr>\n",
       "      <th>min</th>\n",
       "      <td>1.000000</td>\n",
       "      <td>0.000000</td>\n",
       "      <td>0.000000</td>\n",
       "      <td>0.000000</td>\n",
       "      <td>0.000000</td>\n",
       "      <td>0.000000</td>\n",
       "      <td>0.000000</td>\n",
       "      <td>0.000000</td>\n",
       "      <td>0.000000</td>\n",
       "      <td>0.000000</td>\n",
       "      <td>1929.000000</td>\n",
       "      <td>1.000000</td>\n",
       "    </tr>\n",
       "    <tr>\n",
       "      <th>25%</th>\n",
       "      <td>4.000000</td>\n",
       "      <td>96.000000</td>\n",
       "      <td>114.000000</td>\n",
       "      <td>34.000000</td>\n",
       "      <td>24.000000</td>\n",
       "      <td>62.000000</td>\n",
       "      <td>153.000000</td>\n",
       "      <td>221.000000</td>\n",
       "      <td>0.000000</td>\n",
       "      <td>0.000000</td>\n",
       "      <td>1935.000000</td>\n",
       "      <td>3.000000</td>\n",
       "    </tr>\n",
       "    <tr>\n",
       "      <th>50%</th>\n",
       "      <td>12.000000</td>\n",
       "      <td>375.000000</td>\n",
       "      <td>423.000000</td>\n",
       "      <td>123.000000</td>\n",
       "      <td>95.000000</td>\n",
       "      <td>197.000000</td>\n",
       "      <td>430.000000</td>\n",
       "      <td>632.000000</td>\n",
       "      <td>0.000000</td>\n",
       "      <td>0.000000</td>\n",
       "      <td>1951.000000</td>\n",
       "      <td>6.000000</td>\n",
       "    </tr>\n",
       "    <tr>\n",
       "      <th>75%</th>\n",
       "      <td>38.000000</td>\n",
       "      <td>1351.000000</td>\n",
       "      <td>1318.000000</td>\n",
       "      <td>426.000000</td>\n",
       "      <td>330.000000</td>\n",
       "      <td>563.000000</td>\n",
       "      <td>1642.000000</td>\n",
       "      <td>1951.000000</td>\n",
       "      <td>0.000000</td>\n",
       "      <td>0.000000</td>\n",
       "      <td>1978.000000</td>\n",
       "      <td>10.000000</td>\n",
       "    </tr>\n",
       "    <tr>\n",
       "      <th>max</th>\n",
       "      <td>86.000000</td>\n",
       "      <td>4385.000000</td>\n",
       "      <td>2762.000000</td>\n",
       "      <td>1647.000000</td>\n",
       "      <td>633.000000</td>\n",
       "      <td>1070.000000</td>\n",
       "      <td>5947.000000</td>\n",
       "      <td>3889.000000</td>\n",
       "      <td>33.000000</td>\n",
       "      <td>25.000000</td>\n",
       "      <td>2017.000000</td>\n",
       "      <td>20.000000</td>\n",
       "    </tr>\n",
       "  </tbody>\n",
       "</table>\n",
       "</div>"
      ],
      "text/plain": [
       "       Tournament        Score  PlayedGames     WonGames  DrawnGames  \\\n",
       "count   61.000000    61.000000    61.000000    61.000000   61.000000   \n",
       "mean    24.000000   901.426230   796.819672   303.967213  188.934426   \n",
       "std     26.827225  1134.899121   876.282765   406.991030  201.799477   \n",
       "min      1.000000     0.000000     0.000000     0.000000    0.000000   \n",
       "25%      4.000000    96.000000   114.000000    34.000000   24.000000   \n",
       "50%     12.000000   375.000000   423.000000   123.000000   95.000000   \n",
       "75%     38.000000  1351.000000  1318.000000   426.000000  330.000000   \n",
       "max     86.000000  4385.000000  2762.000000  1647.000000  633.000000   \n",
       "\n",
       "         LostGames  BasketScored  BasketGiven  TournamentChampion  Runner-up  \\\n",
       "count    61.000000     61.000000    61.000000           61.000000  61.000000   \n",
       "mean    303.754098   1140.344262  1140.229508            1.426230   1.409836   \n",
       "std     294.708594   1506.740211  1163.710766            5.472535   4.540107   \n",
       "min       0.000000      0.000000     0.000000            0.000000   0.000000   \n",
       "25%      62.000000    153.000000   221.000000            0.000000   0.000000   \n",
       "50%     197.000000    430.000000   632.000000            0.000000   0.000000   \n",
       "75%     563.000000   1642.000000  1951.000000            0.000000   0.000000   \n",
       "max    1070.000000   5947.000000  3889.000000           33.000000  25.000000   \n",
       "\n",
       "        TeamLaunch  HighestPositionHeld  \n",
       "count    61.000000            61.000000  \n",
       "mean   1958.918033             7.081967  \n",
       "std      27.484114             5.276663  \n",
       "min    1929.000000             1.000000  \n",
       "25%    1935.000000             3.000000  \n",
       "50%    1951.000000             6.000000  \n",
       "75%    1978.000000            10.000000  \n",
       "max    2017.000000            20.000000  "
      ]
     },
     "execution_count": 82,
     "metadata": {},
     "output_type": "execute_result"
    }
   ],
   "source": [
    "df_cl.describe()"
   ]
  },
  {
   "cell_type": "code",
   "execution_count": 83,
   "id": "e2e52ae6",
   "metadata": {},
   "outputs": [
    {
     "name": "stdout",
     "output_type": "stream",
     "text": [
      "<class 'pandas.core.frame.DataFrame'>\n",
      "RangeIndex: 61 entries, 0 to 60\n",
      "Data columns (total 13 columns):\n",
      " #   Column               Non-Null Count  Dtype \n",
      "---  ------               --------------  ----- \n",
      " 0   Team                 61 non-null     object\n",
      " 1   Tournament           61 non-null     int64 \n",
      " 2   Score                61 non-null     int64 \n",
      " 3   PlayedGames          61 non-null     int64 \n",
      " 4   WonGames             61 non-null     int64 \n",
      " 5   DrawnGames           61 non-null     int64 \n",
      " 6   LostGames            61 non-null     int64 \n",
      " 7   BasketScored         61 non-null     int64 \n",
      " 8   BasketGiven          61 non-null     int64 \n",
      " 9   TournamentChampion   61 non-null     int64 \n",
      " 10  Runner-up            61 non-null     int64 \n",
      " 11  TeamLaunch           61 non-null     int64 \n",
      " 12  HighestPositionHeld  61 non-null     int64 \n",
      "dtypes: int64(12), object(1)\n",
      "memory usage: 6.3+ KB\n"
     ]
    }
   ],
   "source": [
    "df_cl.info()"
   ]
  },
  {
   "cell_type": "code",
   "execution_count": 84,
   "id": "9837b42b",
   "metadata": {},
   "outputs": [
    {
     "data": {
      "text/plain": [
       "Index(['Team', 'Tournament', 'Score', 'PlayedGames', 'WonGames', 'DrawnGames',\n",
       "       'LostGames', 'BasketScored', 'BasketGiven', 'TournamentChampion',\n",
       "       'Runner-up', 'TeamLaunch', 'HighestPositionHeld'],\n",
       "      dtype='object')"
      ]
     },
     "execution_count": 84,
     "metadata": {},
     "output_type": "execute_result"
    }
   ],
   "source": [
    "df_cl.columns"
   ]
  },
  {
   "cell_type": "code",
   "execution_count": 85,
   "id": "1b40f34b",
   "metadata": {},
   "outputs": [
    {
     "data": {
      "image/png": "[encoded data removed]",
      "text/plain": [
       "<Figure size 432x288 with 1 Axes>"
      ]
     },
     "metadata": {
      "needs_background": "light"
     },
     "output_type": "display_data"
    },
    {
     "data": {
      "image/png": "[encoded data removed]",
      "text/plain": [
       "<Figure size 432x288 with 1 Axes>"
      ]
     },
     "metadata": {
      "needs_background": "light"
     },
     "output_type": "display_data"
    },
    {
     "data": {
      "image/png": "[encoded data removed]",
      "text/plain": [
       "<Figure size 432x288 with 1 Axes>"
      ]
     },
     "metadata": {
      "needs_background": "light"
     },
     "output_type": "display_data"
    },
    {
     "data": {
      "image/png": "[encoded data removed]",
      "text/plain": [
       "<Figure size 432x288 with 1 Axes>"
      ]
     },
     "metadata": {
      "needs_background": "light"
     },
     "output_type": "display_data"
    },
    {
     "data": {
      "image/png": "[encoded data removed]",
      "text/plain": [
       "<Figure size 432x288 with 1 Axes>"
      ]
     },
     "metadata": {
      "needs_background": "light"
     },
     "output_type": "display_data"
    },
    {
     "data": {
      "image/png": "[encoded data removed]",
      "text/plain": [
       "<Figure size 432x288 with 1 Axes>"
      ]
     },
     "metadata": {
      "needs_background": "light"
     },
     "output_type": "display_data"
    },
    {
     "data": {
      "image/png": "[encoded data removed]",
      "text/plain": [
       "<Figure size 432x288 with 1 Axes>"
      ]
     },
     "metadata": {
      "needs_background": "light"
     },
     "output_type": "display_data"
    },
    {
     "data": {
      "image/png": "[encoded data removed]",
      "text/plain": [
       "<Figure size 432x288 with 1 Axes>"
      ]
     },
     "metadata": {
      "needs_background": "light"
     },
     "output_type": "display_data"
    },
    {
     "data": {
      "image/png": "[encoded data removed]",
      "text/plain": [
       "<Figure size 432x288 with 1 Axes>"
      ]
     },
     "metadata": {
      "needs_background": "light"
     },
     "output_type": "display_data"
    },
    {
     "data": {
      "image/png": "[encoded data removed]",
      "text/plain": [
       "<Figure size 432x288 with 1 Axes>"
      ]
     },
     "metadata": {
      "needs_background": "light"
     },
     "output_type": "display_data"
    },
    {
     "data": {
      "image/png": "[encoded data removed]",
      "text/plain": [
       "<Figure size 432x288 with 1 Axes>"
      ]
     },
     "metadata": {
      "needs_background": "light"
     },
     "output_type": "display_data"
    }
   ],
   "source": [
    "#box plot for each column to see the distribution and check if there are any outliers.\n",
    "list_col=['Tournament', 'Score', 'PlayedGames', 'WonGames', 'DrawnGames',\n",
    "       'LostGames', 'BasketScored', 'BasketGiven', 'TournamentChampion',\n",
    "       'Runner-up', 'TeamLaunch']\n",
    "for col in list_col:\n",
    "    df_cl.boxplot(column=[col])\n",
    "    plt.show()"
   ]
  },
  {
   "cell_type": "code",
   "execution_count": 86,
   "id": "1f288f89",
   "metadata": {},
   "outputs": [
    {
     "data": {
      "text/html": [
       "<div>\n",
       "<style scoped>\n",
       "    .dataframe tbody tr th:only-of-type {\n",
       "        vertical-align: middle;\n",
       "    }\n",
       "\n",
       "    .dataframe tbody tr th {\n",
       "        vertical-align: top;\n",
       "    }\n",
       "\n",
       "    .dataframe thead th {\n",
       "        text-align: right;\n",
       "    }\n",
       "</style>\n",
       "<table border=\"1\" class=\"dataframe\">\n",
       "  <thead>\n",
       "    <tr style=\"text-align: right;\">\n",
       "      <th></th>\n",
       "      <th>Team</th>\n",
       "      <th>Tournament</th>\n",
       "      <th>Score</th>\n",
       "      <th>PlayedGames</th>\n",
       "      <th>WonGames</th>\n",
       "      <th>DrawnGames</th>\n",
       "      <th>LostGames</th>\n",
       "      <th>BasketScored</th>\n",
       "      <th>BasketGiven</th>\n",
       "      <th>TournamentChampion</th>\n",
       "      <th>Runner-up</th>\n",
       "      <th>TeamLaunch</th>\n",
       "      <th>HighestPositionHeld</th>\n",
       "    </tr>\n",
       "  </thead>\n",
       "  <tbody>\n",
       "    <tr>\n",
       "      <th>0</th>\n",
       "      <td>Team 1</td>\n",
       "      <td>86</td>\n",
       "      <td>4385</td>\n",
       "      <td>2762</td>\n",
       "      <td>1647</td>\n",
       "      <td>552</td>\n",
       "      <td>563</td>\n",
       "      <td>5947</td>\n",
       "      <td>3140</td>\n",
       "      <td>33</td>\n",
       "      <td>23</td>\n",
       "      <td>1929</td>\n",
       "      <td>1</td>\n",
       "    </tr>\n",
       "    <tr>\n",
       "      <th>1</th>\n",
       "      <td>Team 2</td>\n",
       "      <td>86</td>\n",
       "      <td>4262</td>\n",
       "      <td>2762</td>\n",
       "      <td>1581</td>\n",
       "      <td>573</td>\n",
       "      <td>608</td>\n",
       "      <td>5900</td>\n",
       "      <td>3114</td>\n",
       "      <td>25</td>\n",
       "      <td>25</td>\n",
       "      <td>1929</td>\n",
       "      <td>1</td>\n",
       "    </tr>\n",
       "  </tbody>\n",
       "</table>\n",
       "</div>"
      ],
      "text/plain": [
       "     Team  Tournament  Score  PlayedGames  WonGames  DrawnGames  LostGames  \\\n",
       "0  Team 1          86   4385         2762      1647         552        563   \n",
       "1  Team 2          86   4262         2762      1581         573        608   \n",
       "\n",
       "   BasketScored  BasketGiven  TournamentChampion  Runner-up  TeamLaunch  \\\n",
       "0          5947         3140                  33         23        1929   \n",
       "1          5900         3114                  25         25        1929   \n",
       "\n",
       "   HighestPositionHeld  \n",
       "0                    1  \n",
       "1                    1  "
      ]
     },
     "execution_count": 86,
     "metadata": {},
     "output_type": "execute_result"
    }
   ],
   "source": [
    "df_cl.head(2)"
   ]
  },
  {
   "cell_type": "code",
   "execution_count": 87,
   "id": "ad1362b5",
   "metadata": {},
   "outputs": [],
   "source": [
    "#creating new column as metric of success for each team according to played games.\n",
    "df_cl[\"won_play\"]=df_cl[\"WonGames\"]/df_cl[\"PlayedGames\"]"
   ]
  },
  {
   "cell_type": "code",
   "execution_count": 88,
   "id": "0bb057ee",
   "metadata": {},
   "outputs": [
    {
     "data": {
      "text/html": [
       "<div>\n",
       "<style scoped>\n",
       "    .dataframe tbody tr th:only-of-type {\n",
       "        vertical-align: middle;\n",
       "    }\n",
       "\n",
       "    .dataframe tbody tr th {\n",
       "        vertical-align: top;\n",
       "    }\n",
       "\n",
       "    .dataframe thead th {\n",
       "        text-align: right;\n",
       "    }\n",
       "</style>\n",
       "<table border=\"1\" class=\"dataframe\">\n",
       "  <thead>\n",
       "    <tr style=\"text-align: right;\">\n",
       "      <th></th>\n",
       "      <th>Team</th>\n",
       "      <th>Tournament</th>\n",
       "      <th>Score</th>\n",
       "      <th>PlayedGames</th>\n",
       "      <th>WonGames</th>\n",
       "      <th>DrawnGames</th>\n",
       "      <th>LostGames</th>\n",
       "      <th>BasketScored</th>\n",
       "      <th>BasketGiven</th>\n",
       "      <th>TournamentChampion</th>\n",
       "      <th>Runner-up</th>\n",
       "      <th>TeamLaunch</th>\n",
       "      <th>HighestPositionHeld</th>\n",
       "      <th>won_play</th>\n",
       "    </tr>\n",
       "  </thead>\n",
       "  <tbody>\n",
       "    <tr>\n",
       "      <th>0</th>\n",
       "      <td>Team 1</td>\n",
       "      <td>86</td>\n",
       "      <td>4385</td>\n",
       "      <td>2762</td>\n",
       "      <td>1647</td>\n",
       "      <td>552</td>\n",
       "      <td>563</td>\n",
       "      <td>5947</td>\n",
       "      <td>3140</td>\n",
       "      <td>33</td>\n",
       "      <td>23</td>\n",
       "      <td>1929</td>\n",
       "      <td>1</td>\n",
       "      <td>0.596307</td>\n",
       "    </tr>\n",
       "    <tr>\n",
       "      <th>1</th>\n",
       "      <td>Team 2</td>\n",
       "      <td>86</td>\n",
       "      <td>4262</td>\n",
       "      <td>2762</td>\n",
       "      <td>1581</td>\n",
       "      <td>573</td>\n",
       "      <td>608</td>\n",
       "      <td>5900</td>\n",
       "      <td>3114</td>\n",
       "      <td>25</td>\n",
       "      <td>25</td>\n",
       "      <td>1929</td>\n",
       "      <td>1</td>\n",
       "      <td>0.572411</td>\n",
       "    </tr>\n",
       "  </tbody>\n",
       "</table>\n",
       "</div>"
      ],
      "text/plain": [
       "     Team  Tournament  Score  PlayedGames  WonGames  DrawnGames  LostGames  \\\n",
       "0  Team 1          86   4385         2762      1647         552        563   \n",
       "1  Team 2          86   4262         2762      1581         573        608   \n",
       "\n",
       "   BasketScored  BasketGiven  TournamentChampion  Runner-up  TeamLaunch  \\\n",
       "0          5947         3140                  33         23        1929   \n",
       "1          5900         3114                  25         25        1929   \n",
       "\n",
       "   HighestPositionHeld  won_play  \n",
       "0                    1  0.596307  \n",
       "1                    1  0.572411  "
      ]
     },
     "execution_count": 88,
     "metadata": {},
     "output_type": "execute_result"
    }
   ],
   "source": [
    "df_cl.head(2)"
   ]
  },
  {
   "cell_type": "code",
   "execution_count": 89,
   "id": "81bf9b0a",
   "metadata": {
    "scrolled": true
   },
   "outputs": [
    {
     "data": {
      "text/html": [
       "<div>\n",
       "<style scoped>\n",
       "    .dataframe tbody tr th:only-of-type {\n",
       "        vertical-align: middle;\n",
       "    }\n",
       "\n",
       "    .dataframe tbody tr th {\n",
       "        vertical-align: top;\n",
       "    }\n",
       "\n",
       "    .dataframe thead th {\n",
       "        text-align: right;\n",
       "    }\n",
       "</style>\n",
       "<table border=\"1\" class=\"dataframe\">\n",
       "  <thead>\n",
       "    <tr style=\"text-align: right;\">\n",
       "      <th></th>\n",
       "      <th>Team</th>\n",
       "      <th>Tournament</th>\n",
       "      <th>Score</th>\n",
       "      <th>PlayedGames</th>\n",
       "      <th>WonGames</th>\n",
       "      <th>DrawnGames</th>\n",
       "      <th>LostGames</th>\n",
       "      <th>BasketScored</th>\n",
       "      <th>BasketGiven</th>\n",
       "      <th>TournamentChampion</th>\n",
       "      <th>Runner-up</th>\n",
       "      <th>TeamLaunch</th>\n",
       "      <th>HighestPositionHeld</th>\n",
       "      <th>won_play</th>\n",
       "    </tr>\n",
       "  </thead>\n",
       "  <tbody>\n",
       "    <tr>\n",
       "      <th>0</th>\n",
       "      <td>Team 1</td>\n",
       "      <td>86</td>\n",
       "      <td>4385</td>\n",
       "      <td>2762</td>\n",
       "      <td>1647</td>\n",
       "      <td>552</td>\n",
       "      <td>563</td>\n",
       "      <td>5947</td>\n",
       "      <td>3140</td>\n",
       "      <td>33</td>\n",
       "      <td>23</td>\n",
       "      <td>1929</td>\n",
       "      <td>1</td>\n",
       "      <td>0.596307</td>\n",
       "    </tr>\n",
       "    <tr>\n",
       "      <th>1</th>\n",
       "      <td>Team 2</td>\n",
       "      <td>86</td>\n",
       "      <td>4262</td>\n",
       "      <td>2762</td>\n",
       "      <td>1581</td>\n",
       "      <td>573</td>\n",
       "      <td>608</td>\n",
       "      <td>5900</td>\n",
       "      <td>3114</td>\n",
       "      <td>25</td>\n",
       "      <td>25</td>\n",
       "      <td>1929</td>\n",
       "      <td>1</td>\n",
       "      <td>0.572411</td>\n",
       "    </tr>\n",
       "    <tr>\n",
       "      <th>2</th>\n",
       "      <td>Team 3</td>\n",
       "      <td>80</td>\n",
       "      <td>3442</td>\n",
       "      <td>2614</td>\n",
       "      <td>1241</td>\n",
       "      <td>598</td>\n",
       "      <td>775</td>\n",
       "      <td>4534</td>\n",
       "      <td>3309</td>\n",
       "      <td>10</td>\n",
       "      <td>8</td>\n",
       "      <td>1929</td>\n",
       "      <td>1</td>\n",
       "      <td>0.474751</td>\n",
       "    </tr>\n",
       "    <tr>\n",
       "      <th>3</th>\n",
       "      <td>Team 4</td>\n",
       "      <td>82</td>\n",
       "      <td>3386</td>\n",
       "      <td>2664</td>\n",
       "      <td>1187</td>\n",
       "      <td>616</td>\n",
       "      <td>861</td>\n",
       "      <td>4398</td>\n",
       "      <td>3469</td>\n",
       "      <td>6</td>\n",
       "      <td>6</td>\n",
       "      <td>1931</td>\n",
       "      <td>1</td>\n",
       "      <td>0.445571</td>\n",
       "    </tr>\n",
       "    <tr>\n",
       "      <th>4</th>\n",
       "      <td>Team 5</td>\n",
       "      <td>86</td>\n",
       "      <td>3368</td>\n",
       "      <td>2762</td>\n",
       "      <td>1209</td>\n",
       "      <td>633</td>\n",
       "      <td>920</td>\n",
       "      <td>4631</td>\n",
       "      <td>3700</td>\n",
       "      <td>8</td>\n",
       "      <td>7</td>\n",
       "      <td>1929</td>\n",
       "      <td>1</td>\n",
       "      <td>0.437726</td>\n",
       "    </tr>\n",
       "  </tbody>\n",
       "</table>\n",
       "</div>"
      ],
      "text/plain": [
       "     Team  Tournament  Score  PlayedGames  WonGames  DrawnGames  LostGames  \\\n",
       "0  Team 1          86   4385         2762      1647         552        563   \n",
       "1  Team 2          86   4262         2762      1581         573        608   \n",
       "2  Team 3          80   3442         2614      1241         598        775   \n",
       "3  Team 4          82   3386         2664      1187         616        861   \n",
       "4  Team 5          86   3368         2762      1209         633        920   \n",
       "\n",
       "   BasketScored  BasketGiven  TournamentChampion  Runner-up  TeamLaunch  \\\n",
       "0          5947         3140                  33         23        1929   \n",
       "1          5900         3114                  25         25        1929   \n",
       "2          4534         3309                  10          8        1929   \n",
       "3          4398         3469                   6          6        1931   \n",
       "4          4631         3700                   8          7        1929   \n",
       "\n",
       "   HighestPositionHeld  won_play  \n",
       "0                    1  0.596307  \n",
       "1                    1  0.572411  \n",
       "2                    1  0.474751  \n",
       "3                    1  0.445571  \n",
       "4                    1  0.437726  "
      ]
     },
     "execution_count": 89,
     "metadata": {},
     "output_type": "execute_result"
    }
   ],
   "source": [
    "df_final=df_cl.nlargest(10,['won_play','TournamentChampion'])\n",
    "df_final.head()"
   ]
  },
  {
   "cell_type": "code",
   "execution_count": 90,
   "id": "d729656e",
   "metadata": {},
   "outputs": [
    {
     "data": {
      "text/plain": [
       "array([0.59630702, 0.5724113 , 0.47475134, 0.44557057, 0.43772629,\n",
       "       0.41112957, 0.36100533, 0.3753258 , 0.35146022, 0.35069444,\n",
       "       0.36797386, 0.3451119 , 0.31582538, 0.31722689, 0.32304527,\n",
       "       0.323217  , 0.31075697, 0.34228188, 0.33704453, 0.33485401,\n",
       "       0.41176471, 0.29380054, 0.2898773 , 0.29941003, 0.32236842,\n",
       "       0.29299363, 0.31376518, 0.24744027, 0.32894737, 0.28109453,\n",
       "       0.29078014, 0.3028169 , 0.23214286, 0.27745665, 0.30838323,\n",
       "       0.28148148, 0.27192982, 0.325     , 0.2688172 , 0.28921569,\n",
       "       0.29444444, 0.24342105, 0.30701754, 0.33076923, 0.22807018,\n",
       "       0.29310345, 0.25      , 0.2375    , 0.27777778, 0.32222222,\n",
       "       0.29166667, 0.33333333, 0.19117647, 0.21052632, 0.23333333,\n",
       "       0.16666667,        nan])"
      ]
     },
     "execution_count": 90,
     "metadata": {},
     "output_type": "execute_result"
    }
   ],
   "source": [
    "df_cl[\"won_play\"].unique()"
   ]
  },
  {
   "cell_type": "code",
   "execution_count": 91,
   "id": "a85b1156",
   "metadata": {},
   "outputs": [
    {
     "data": {
      "text/plain": [
       "array([33, 25, 10,  6,  8,  1,  0,  2], dtype=int64)"
      ]
     },
     "execution_count": 91,
     "metadata": {},
     "output_type": "execute_result"
    }
   ],
   "source": [
    "df_cl[\"TournamentChampion\"].unique()"
   ]
  },
  {
   "cell_type": "code",
   "execution_count": 92,
   "id": "70a5cc8c",
   "metadata": {},
   "outputs": [
    {
     "data": {
      "image/png": "[encoded data removed]",
      "text/plain": [
       "<Figure size 648x360 with 1 Axes>"
      ]
     },
     "metadata": {
      "needs_background": "light"
     },
     "output_type": "display_data"
    }
   ],
   "source": [
    "\n",
    "team=df_final[\"Team\"]\n",
    "score=df_final[\"Score\"]\n",
    "fig, ax = plt.subplots(figsize =(9,5))\n",
    " \n",
    "# Remove axes splines\n",
    "for s in ['top', 'bottom', 'left', 'right']:\n",
    "    ax.spines[s].set_visible(False)\n",
    "# Horizontal Bar Plot\n",
    "ax.bar(team, score)\n",
    "\n",
    " \n",
    "# Remove x, y Ticks\n",
    "ax.xaxis.set_ticks_position('none')\n",
    "ax.yaxis.set_ticks_position('none')\n",
    " \n",
    "# Add padding between axes and labels\n",
    "ax.xaxis.set_tick_params(pad = 3)\n",
    "ax.yaxis.set_tick_params(pad = 6)\n",
    " \n",
    "\n",
    "plt.bar(df_final[\"Team\"], df_final[\"TournamentChampion\"])\n",
    "plt.show()\n",
    "\n"
   ]
  },
  {
   "cell_type": "markdown",
   "id": "6c836c88",
   "metadata": {},
   "source": [
    "##### from the bar chart as we see team 1 is the top team which have bigger score then team3 etc."
   ]
  },
  {
   "cell_type": "code",
   "execution_count": 93,
   "id": "0a720951",
   "metadata": {},
   "outputs": [
    {
     "name": "stderr",
     "output_type": "stream",
     "text": [
      "*c* argument looks like a single numeric RGB or RGBA sequence, which should be avoided as value-mapping will have precedence in case its length matches with *x* & *y*.  Please use the *color* keyword-argument or provide a 2D array with a single row if you intend to specify the same RGB or RGBA value for all points.\n"
     ]
    },
    {
     "data": {
      "image/png": "[encoded data removed]",
      "text/plain": [
       "<Figure size 432x288 with 1 Axes>"
      ]
     },
     "metadata": {
      "needs_background": "light"
     },
     "output_type": "display_data"
    }
   ],
   "source": [
    "colors = (0,0,0)\n",
    "plt.scatter(df_final[\"PlayedGames\"],df_final[\"Score\"], c=colors, alpha=0.5)\n",
    "plt.title('playedgames with score number')\n",
    "plt.xlabel('PlayedGames')\n",
    "plt.ylabel('Score')\n",
    "plt.show()"
   ]
  },
  {
   "cell_type": "markdown",
   "id": "63b445ec",
   "metadata": {},
   "source": [
    "##### the more the team played ,the more score he get."
   ]
  },
  {
   "cell_type": "code",
   "execution_count": 94,
   "id": "b39290ec",
   "metadata": {},
   "outputs": [
    {
     "name": "stderr",
     "output_type": "stream",
     "text": [
      "*c* argument looks like a single numeric RGB or RGBA sequence, which should be avoided as value-mapping will have precedence in case its length matches with *x* & *y*.  Please use the *color* keyword-argument or provide a 2D array with a single row if you intend to specify the same RGB or RGBA value for all points.\n"
     ]
    },
    {
     "data": {
      "image/png": "[encoded data removed]",
      "text/plain": [
       "<Figure size 432x288 with 1 Axes>"
      ]
     },
     "metadata": {
      "needs_background": "light"
     },
     "output_type": "display_data"
    }
   ],
   "source": [
    "colors = (0,0,0)\n",
    "plt.scatter(df_final[\"PlayedGames\"],df_final[\"WonGames\"], c=colors, alpha=0.5)\n",
    "plt.title('playedgames with WonGames')\n",
    "plt.xlabel('PlayedGames')\n",
    "plt.ylabel('WonGames')\n",
    "plt.show()"
   ]
  },
  {
   "cell_type": "markdown",
   "id": "045d5b3c",
   "metadata": {},
   "source": [
    "#####  there a positive relation between number of playedgames ans the wongames."
   ]
  },
  {
   "cell_type": "code",
   "execution_count": 95,
   "id": "10ab52bd",
   "metadata": {},
   "outputs": [
    {
     "data": {
      "image/png": "[encoded data removed]",
      "text/plain": [
       "<Figure size 648x360 with 1 Axes>"
      ]
     },
     "metadata": {
      "needs_background": "light"
     },
     "output_type": "display_data"
    }
   ],
   "source": [
    "team=df_final[\"Team\"]\n",
    "score=df_final[\"TournamentChampion\"]\n",
    "fig, ax = plt.subplots(figsize =(9,5))\n",
    " \n",
    "# Remove axes splines\n",
    "for s in ['top', 'bottom', 'left', 'right']:\n",
    "    ax.spines[s].set_visible(False)\n",
    "# Horizontal Bar Plot\n",
    "ax.bar(team, score)\n",
    "\n",
    " \n",
    "# Remove x, y Ticks\n",
    "ax.xaxis.set_ticks_position('none')\n",
    "ax.yaxis.set_ticks_position('none')\n",
    " \n",
    "# Add padding between axes and labels\n",
    "ax.xaxis.set_tick_params(pad = 3)\n",
    "ax.yaxis.set_tick_params(pad = 6)\n",
    " \n",
    "\n",
    "plt.bar(df_final[\"Team\"], df_final[\"TournamentChampion\"])\n",
    "plt.show()"
   ]
  },
  {
   "cell_type": "markdown",
   "id": "851a155f",
   "metadata": {},
   "source": [
    "##### team one is a top team , it gets 33 tournamentchampion which is amazinf and the team2 and tean3."
   ]
  },
  {
   "cell_type": "code",
   "execution_count": 96,
   "id": "a7f4e4bb",
   "metadata": {},
   "outputs": [
    {
     "data": {
      "text/plain": [
       "Text(0.5, 1.0, 'score vs wining')"
      ]
     },
     "execution_count": 96,
     "metadata": {},
     "output_type": "execute_result"
    },
    {
     "data": {
      "image/png": "[encoded data removed]",
      "text/plain": [
       "<Figure size 720x360 with 1 Axes>"
      ]
     },
     "metadata": {
      "needs_background": "light"
     },
     "output_type": "display_data"
    }
   ],
   "source": [
    "figure, ax = plt.subplots(figsize=(10,5))  #Creates empty plot\n",
    "sns.regplot(data = df_final,x = 'WonGames',y = \"BasketScored\", fit_reg = False, color = '#da8600', scatter_kws={'s':df_final['TournamentChampion']*100}) #Creates Bubble Chart\n",
    "ax.set_xlabel(\"WonGames\")\n",
    "ax.set_ylabel(\"BasketScored\")\n",
    "ax.set_title(\"score vs wining\")\n",
    "#BasketScored\tBasketGiven\tTournamentChampion"
   ]
  },
  {
   "cell_type": "code",
   "execution_count": 97,
   "id": "5717fa65",
   "metadata": {},
   "outputs": [
    {
     "data": {
      "text/plain": [
       "Text(0.5, 1.0, 'tournament & won_play')"
      ]
     },
     "execution_count": 97,
     "metadata": {},
     "output_type": "execute_result"
    },
    {
     "data": {
      "image/png": "[encoded data removed]",
      "text/plain": [
       "<Figure size 720x360 with 1 Axes>"
      ]
     },
     "metadata": {
      "needs_background": "light"
     },
     "output_type": "display_data"
    }
   ],
   "source": [
    "figure, ax = plt.subplots(figsize=(10,5))  #Creates empty plot\n",
    "sns.regplot(data = df_final,x = 'Tournament',y = \"won_play\", fit_reg = False, color = '#da8600', scatter_kws={'s':df_final['TournamentChampion']*100}) #Creates Bubble Chart\n",
    "ax.set_xlabel(\"Tournament\")\n",
    "ax.set_ylabel(\"won_play\")\n",
    "ax.set_title(\"tournament & won_play\")"
   ]
  },
  {
   "cell_type": "code",
   "execution_count": 98,
   "id": "3de63b4d",
   "metadata": {},
   "outputs": [
    {
     "data": {
      "text/html": [
       "<div>\n",
       "<style scoped>\n",
       "    .dataframe tbody tr th:only-of-type {\n",
       "        vertical-align: middle;\n",
       "    }\n",
       "\n",
       "    .dataframe tbody tr th {\n",
       "        vertical-align: top;\n",
       "    }\n",
       "\n",
       "    .dataframe thead th {\n",
       "        text-align: right;\n",
       "    }\n",
       "</style>\n",
       "<table border=\"1\" class=\"dataframe\">\n",
       "  <thead>\n",
       "    <tr style=\"text-align: right;\">\n",
       "      <th></th>\n",
       "      <th>Team</th>\n",
       "      <th>Tournament</th>\n",
       "      <th>Score</th>\n",
       "      <th>PlayedGames</th>\n",
       "      <th>WonGames</th>\n",
       "      <th>DrawnGames</th>\n",
       "      <th>LostGames</th>\n",
       "      <th>BasketScored</th>\n",
       "      <th>BasketGiven</th>\n",
       "      <th>TournamentChampion</th>\n",
       "      <th>Runner-up</th>\n",
       "      <th>TeamLaunch</th>\n",
       "      <th>HighestPositionHeld</th>\n",
       "      <th>won_play</th>\n",
       "    </tr>\n",
       "  </thead>\n",
       "  <tbody>\n",
       "    <tr>\n",
       "      <th>0</th>\n",
       "      <td>Team 1</td>\n",
       "      <td>86</td>\n",
       "      <td>4385</td>\n",
       "      <td>2762</td>\n",
       "      <td>1647</td>\n",
       "      <td>552</td>\n",
       "      <td>563</td>\n",
       "      <td>5947</td>\n",
       "      <td>3140</td>\n",
       "      <td>33</td>\n",
       "      <td>23</td>\n",
       "      <td>1929</td>\n",
       "      <td>1</td>\n",
       "      <td>0.596307</td>\n",
       "    </tr>\n",
       "  </tbody>\n",
       "</table>\n",
       "</div>"
      ],
      "text/plain": [
       "     Team  Tournament  Score  PlayedGames  WonGames  DrawnGames  LostGames  \\\n",
       "0  Team 1          86   4385         2762      1647         552        563   \n",
       "\n",
       "   BasketScored  BasketGiven  TournamentChampion  Runner-up  TeamLaunch  \\\n",
       "0          5947         3140                  33         23        1929   \n",
       "\n",
       "   HighestPositionHeld  won_play  \n",
       "0                    1  0.596307  "
      ]
     },
     "execution_count": 98,
     "metadata": {},
     "output_type": "execute_result"
    }
   ],
   "source": [
    "#pie chart for team1 (rating all different part)\n",
    "df_final.head(1)"
   ]
  },
  {
   "cell_type": "code",
   "execution_count": 99,
   "id": "b030ac23",
   "metadata": {},
   "outputs": [
    {
     "data": {
      "image/png": "[encoded data removed]",
      "text/plain": [
       "<Figure size 1080x648 with 1 Axes>"
      ]
     },
     "metadata": {},
     "output_type": "display_data"
    }
   ],
   "source": [
    "# Creating dataset\n",
    "criteria= ['Tournament', 'Score', 'wonGames',\n",
    "        'Drawngames', 'Lostgames', 'BasketScored',\"Tournamentchampion\"]\n",
    " \n",
    "data = [86, 4385,1647, 552,563, 5947,33]\n",
    "colors = ['#FFE5CC', '#A0A0A0', '#FF9999', 'tab:orange', '#330000',\"#001933\"]\n",
    "\n",
    "# Creating plot\n",
    "fig = plt.figure(figsize =(15, 9))\n",
    "plt.pie(data, labels = criteria,colors=colors)\n",
    " \n",
    "# show plot\n",
    "plt.show()"
   ]
  },
  {
   "cell_type": "markdown",
   "id": "b5207150",
   "metadata": {},
   "source": [
    "### From The EDA above , all the indicators refer to that Team1 is the best one then come team2 in the second position ,Team1 has the highest relative frequency number in wining games , it took 33 chamion so it is a great deal to collaporate with it."
   ]
  },
  {
   "cell_type": "markdown",
   "id": "23329d87",
   "metadata": {},
   "source": [
    "##### ----------------------------------------------------------------------------------------------------------------------------------------------------------------------------------"
   ]
  },
  {
   "cell_type": "markdown",
   "id": "631fd532",
   "metadata": {},
   "source": [
    "### Part three:\n",
    "\n",
    "\n"
   ]
  },
  {
   "cell_type": "markdown",
   "id": "416d605c",
   "metadata": {},
   "source": [
    "## Suggestions:\n",
    "- According to the data above it is perfect and satisfied for analysis ,but the point is any team have a couch so it should be data for every couch (name-nationality-age-the period of his working time ) which lead the team .\n",
    "- Each team's budget column to see if that affect on the team performance by providing more suitable conditions."
   ]
  }
 ],
 "metadata": {
  "kernelspec": {
   "display_name": "Python 3 (ipykernel)",
   "language": "python",
   "name": "python3"
  },
  "language_info": {
   "codemirror_mode": {
    "name": "ipython",
    "version": 3
   },
   "file_extension": ".py",
   "mimetype": "text/x-python",
   "name": "python",
   "nbconvert_exporter": "python",
   "pygments_lexer": "ipython3",
   "version": "3.9.7"
  }
 },
 "nbformat": 4,
 "nbformat_minor": 5
}
